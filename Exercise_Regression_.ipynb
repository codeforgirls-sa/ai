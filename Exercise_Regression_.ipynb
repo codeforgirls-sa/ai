{
  "nbformat": 4,
  "nbformat_minor": 0,
  "metadata": {
    "colab": {
      "name": "Exercise_Regression .ipynb",
      "provenance": [],
      "authorship_tag": "ABX9TyP+bCvDTP6KWH6GV0b7mMdM",
      "include_colab_link": true
    },
    "kernelspec": {
      "name": "python3",
      "display_name": "Python 3"
    }
  },
  "cells": [
    {
      "cell_type": "markdown",
      "metadata": {
        "id": "view-in-github",
        "colab_type": "text"
      },
      "source": [
        "<a href=\"https://colab.research.google.com/github/codeforgirls-sa/ml/blob/master/Exercise_Regression_.ipynb\" target=\"_parent\"><img src=\"https://colab.research.google.com/assets/colab-badge.svg\" alt=\"Open In Colab\"/></a>"
      ]
    },
    {
      "cell_type": "markdown",
      "metadata": {
        "id": "kMOOepoTsm7T",
        "colab_type": "text"
      },
      "source": [
        "## Import libraries that you need"
      ]
    },
    {
      "cell_type": "code",
      "metadata": {
        "id": "H4cBBWjEz2Fl",
        "colab_type": "code",
        "colab": {}
      },
      "source": [
        "#TODO : Import libraries that you need"
      ],
      "execution_count": 0,
      "outputs": []
    },
    {
      "cell_type": "markdown",
      "metadata": {
        "id": "iiPsszbHsz4x",
        "colab_type": "text"
      },
      "source": [
        "##Load the dataset and read it"
      ]
    },
    {
      "cell_type": "code",
      "metadata": {
        "id": "nF4onpLzvQLN",
        "colab_type": "code",
        "colab": {}
      },
      "source": [
        "filename = \"https://raw.githubusercontent.com/codeforgirls-sa/ml/master/math_cleaned_data.csv\"\n",
        "#TODO : use pandas to read the dataset and assign it into data below\n",
        "data = \n"
      ],
      "execution_count": 0,
      "outputs": []
    },
    {
      "cell_type": "markdown",
      "metadata": {
        "id": "D-mpt97-s7UR",
        "colab_type": "text"
      },
      "source": [
        "##Data Exploration"
      ]
    },
    {
      "cell_type": "code",
      "metadata": {
        "id": "_aLKEZTeuZC_",
        "colab_type": "code",
        "colab": {}
      },
      "source": [
        "data = data.drop(['famsize', 'Medu', 'Fedu', 'Mjob', 'Fjob', 'guardian',\n",
        "       'traveltime', 'studytime', 'failures', 'schoolsup', 'famsup', 'paid',\n",
        "       'activities', 'higher', 'internet', 'famrel', 'freetime', 'goout',], axis =1)\n"
      ],
      "execution_count": 0,
      "outputs": []
    },
    {
      "cell_type": "code",
      "metadata": {
        "id": "CB459Z1vx_KI",
        "colab_type": "code",
        "colab": {}
      },
      "source": [
        "#TODO : show the first rows "
      ],
      "execution_count": 0,
      "outputs": []
    },
    {
      "cell_type": "code",
      "metadata": {
        "id": "qE1uiILZwNK2",
        "colab_type": "code",
        "colab": {}
      },
      "source": [
        "#TODO : show the details of the data"
      ],
      "execution_count": 0,
      "outputs": []
    },
    {
      "cell_type": "markdown",
      "metadata": {
        "id": "klCNX6_etEq2",
        "colab_type": "text"
      },
      "source": [
        "##Start Model Development"
      ]
    },
    {
      "cell_type": "code",
      "metadata": {
        "id": "DYsJV8Eiwi55",
        "colab_type": "code",
        "colab": {}
      },
      "source": [
        "#TODO: Define labels and features"
      ],
      "execution_count": 0,
      "outputs": []
    },
    {
      "cell_type": "code",
      "metadata": {
        "id": "z6nOretrwnjL",
        "colab_type": "code",
        "colab": {}
      },
      "source": [
        "#TODO: Spilt the data; 20% for testing and 80% for training\n",
        "train_X, test_X, train_Y, test_Y ="
      ],
      "execution_count": 0,
      "outputs": []
    },
    {
      "cell_type": "code",
      "metadata": {
        "id": "JuJjAGzkxdPz",
        "colab_type": "code",
        "colab": {}
      },
      "source": [
        "#TODO: Train the Model"
      ],
      "execution_count": 0,
      "outputs": []
    },
    {
      "cell_type": "code",
      "metadata": {
        "id": "qegkUA4Yx4Ep",
        "colab_type": "code",
        "colab": {}
      },
      "source": [
        "#TODO: Evaluate your model by Test set"
      ],
      "execution_count": 0,
      "outputs": []
    },
    {
      "cell_type": "code",
      "metadata": {
        "id": "yOoLZLgyyHEw",
        "colab_type": "code",
        "colab": {}
      },
      "source": [
        "#TODO: Use your model to predict and use the test set to compare between the predicted and the real final grade"
      ],
      "execution_count": 0,
      "outputs": []
    },
    {
      "cell_type": "code",
      "metadata": {
        "id": "cm2Sx_N1zAz-",
        "colab_type": "code",
        "colab": {}
      },
      "source": [
        "#TODO: Visualize the real and predicted final grad to be clear"
      ],
      "execution_count": 0,
      "outputs": []
    }
  ]
}
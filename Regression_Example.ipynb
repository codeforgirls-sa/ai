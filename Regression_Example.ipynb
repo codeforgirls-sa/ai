{
  "nbformat": 4,
  "nbformat_minor": 0,
  "metadata": {
    "colab": {
      "name": "Regression Example.ipynb",
      "provenance": [],
      "collapsed_sections": [],
      "toc_visible": true,
      "include_colab_link": true
    },
    "language_info": {
      "codemirror_mode": {
        "name": "ipython",
        "version": 3
      },
      "file_extension": ".py",
      "mimetype": "text/x-python",
      "name": "python",
      "nbconvert_exporter": "python",
      "pygments_lexer": "ipython3",
      "version": "3.7.3"
    },
    "kernelspec": {
      "display_name": "Python 3",
      "language": "python",
      "name": "python3"
    },
    "accelerator": "TPU"
  },
  "cells": [
    {
      "cell_type": "markdown",
      "metadata": {
        "id": "view-in-github",
        "colab_type": "text"
      },
      "source": [
        "<a href=\"https://colab.research.google.com/github/codeforgirls-sa/ml/blob/master/Regression_Example.ipynb\" target=\"_parent\"><img src=\"https://colab.research.google.com/assets/colab-badge.svg\" alt=\"Open In Colab\"/></a>"
      ]
    },
    {
      "cell_type": "markdown",
      "metadata": {
        "colab_type": "text",
        "id": "G1bxIJRbqcIt"
      },
      "source": [
        "# Regression Example\n",
        "\n"
      ]
    },
    {
      "cell_type": "markdown",
      "metadata": {
        "id": "yACzjmNu27df",
        "colab_type": "text"
      },
      "source": [
        "<h1> Contents </h1>"
      ]
    },
    {
      "cell_type": "markdown",
      "metadata": {
        "id": "nlNttE5uibGv",
        "colab_type": "text"
      },
      "source": [
        "\n",
        "\n",
        "\n",
        "\n",
        "\n",
        "\n",
        "\n",
        "* Understand Data \n",
        "* Model Development\n",
        "* Save the Model\n",
        "\n",
        "\n",
        "\n",
        "\n",
        "\n",
        "---\n",
        "\n",
        " \n",
        "\n",
        "\n",
        "\n"
      ]
    },
    {
      "cell_type": "markdown",
      "metadata": {
        "id": "D-oxlcV4lTUb",
        "colab_type": "text"
      },
      "source": [
        "#Understand Data\n",
        " <h2>Read Dataset Description</h2>\n",
        "We want to predict students performance in math in secondary education of a high school. Please read the description of data set before start.\n",
        "\n",
        " "
      ]
    },
    {
      "cell_type": "markdown",
      "metadata": {
        "id": "A_wjEmvQyUuL",
        "colab_type": "text"
      },
      "source": [
        "### Dataset info\n",
        "This data approaches student achievement in a secondary school for Math. The data attributes include student grades, demographic, social and school related features. It was collected by using school reports and questionnaires.\n",
        "\n",
        "\n",
        " Attribute Information:\n",
        "1. sex - student's sex (binary: 'F' - female or 'M' - male){'F': 0, 'M': 1}\n",
        "2. age - student's age (numeric: from 15 to 22)\n",
        "3. famsize - family size (binary: 'LE3' - less or equal to 3 or 'GT3' - greater than 3){'GT3': 0, 'LE3': 1}\n",
        "4. Medu - mother's education (numeric: 0 - none, 1 - primary education (4th grade), 2  5th to 9th grade, 3  secondary education or 4 higher education)\n",
        "5. Fedu - father's education (numeric: 0 - none, 1 - primary education (4th grade), 2  5th to 9th grade, 3  secondary education or 4  higher education)\n",
        "6. Mjob - mother's job (nominal: 'teacher', 'health' care related, civil 'services' (e.g. administrative or police), 'at_home' or 'other') {'at_home': 0, 'health': 1, 'other': 2, 'services': 3, 'teacher': 4}\n",
        "7. Fjob - father's job (nominal: 'teacher', 'health' care related, civil 'services' (e.g. administrative or police), 'at_home' or 'other') {'teacher': 0, 'other': 1, 'services': 2, 'health': 3, 'at_home': 4}\n",
        "8. guardian - student's guardian (nominal: 'mother', 'father' or 'other') {'mother': 0, 'father': 1, 'other': 2}\n",
        "9. traveltime - home to school travel time (numeric: 1 - <15 min., 2 - 15 to 30 min., 3 - 30 min. to 1 hour, or 4 - >1 hour)\n",
        "10. studytime - weekly study time (numeric: 1 - <2 hours, 2 - 2 to 5 hours, 3 - 5 to 10 hours, or 4 - >10 hours)\n",
        "11. failures - number of past class failures (numeric: n if 1<=n<3, else 4)\n",
        "12. schoolsup - extra educational support (binary: yes or no) {'yes': 0, 'no': 1}\n",
        "13. famsup - family educational support (binary: yes or no){'no': 0, 'yes': 1}\n",
        "14. paid - extra paid classes within the course subject Math (binary: yes or no)\n",
        "15. activities - extracurricular activities (binary: yes or no){'no': 0, 'yes': 1}\n",
        "16. higher - wants to take higher education (binary: yes or no){'yes': 0, 'no': 1}\n",
        "17. internet - Internet access at home (binary: yes or no) {'no': 0, 'yes': 1}\n",
        "18. famrel - quality of family relationships (numeric: from 1 - very bad to 5 - excellent)\n",
        "19. freetime - free time after school (numeric: from 1 - very low to 5 - very high)\n",
        "20. goout - going out with friends (numeric: from 1 - very low to 5 - very high)\n",
        "21. health - current health status (numeric: from 1 - very bad to 5 - very good)\n",
        "22. absences - number of school absences (numeric: from 0 to 93)\n",
        "\n",
        "\n",
        "These grades are related with the course subject, Math:\n",
        "23. G1 - first period grade (numeric: from 0 to 20)\n",
        "24. G2 - second period grade (numeric: from 0 to 20)\n",
        "25. G3 - final grade (numeric: from 0 to 20, output target)\n",
        "\n",
        "\n"
      ]
    },
    {
      "cell_type": "markdown",
      "metadata": {
        "id": "yX-0gXOXzNMI",
        "colab_type": "text"
      },
      "source": [
        "![alt text](https://github.com/Ruqyai/Files/blob/master/workflow.png?raw=true)"
      ]
    },
    {
      "cell_type": "markdown",
      "metadata": {
        "colab_type": "text",
        "id": "ytcjztxnjS1b"
      },
      "source": [
        "\n",
        "\n",
        "###Import libraries\n",
        "\n",
        "\n"
      ]
    },
    {
      "cell_type": "code",
      "metadata": {
        "colab_type": "code",
        "id": "M2d6rYP_i_hx",
        "outputId": "a3dd5abf-7fba-4e54-d196-d22926e38bd8",
        "colab": {
          "base_uri": "https://localhost:8080/",
          "height": 71
        }
      },
      "source": [
        "import numpy as np\n",
        "import pandas as pd\n",
        "import matplotlib.pyplot as plt\n",
        "from sklearn.model_selection import train_test_split\n",
        "from sklearn import linear_model\n",
        "from sklearn.externals import joblib"
      ],
      "execution_count": 1,
      "outputs": [
        {
          "output_type": "stream",
          "text": [
            "/usr/local/lib/python3.6/dist-packages/sklearn/externals/joblib/__init__.py:15: FutureWarning: sklearn.externals.joblib is deprecated in 0.21 and will be removed in 0.23. Please import this functionality directly from joblib, which can be installed with: pip install joblib. If this warning is raised when loading pickled models, you may need to re-serialize those models with scikit-learn 0.21+.\n",
            "  warnings.warn(msg, category=FutureWarning)\n"
          ],
          "name": "stderr"
        }
      ]
    },
    {
      "cell_type": "markdown",
      "metadata": {
        "colab_type": "text",
        "id": "EexajtmcrZ0t"
      },
      "source": [
        "### Load the dataset"
      ]
    },
    {
      "cell_type": "code",
      "metadata": {
        "id": "AVbH3yGaXCGk",
        "colab_type": "code",
        "colab": {}
      },
      "source": [
        "filename = \"https://raw.githubusercontent.com/codeforgirls-sa/ml/master/math_cleaned_data.csv\"\n"
      ],
      "execution_count": 0,
      "outputs": []
    },
    {
      "cell_type": "markdown",
      "metadata": {
        "colab_type": "text",
        "id": "eVdWi-vQsN-o"
      },
      "source": [
        "###Read the dataset"
      ]
    },
    {
      "cell_type": "code",
      "metadata": {
        "colab_type": "code",
        "id": "ytaabSN1kEjY",
        "colab": {}
      },
      "source": [
        "df = pd.read_csv(filename)"
      ],
      "execution_count": 0,
      "outputs": []
    },
    {
      "cell_type": "markdown",
      "metadata": {
        "colab_type": "text",
        "id": "9BLux0Gdr6tf"
      },
      "source": [
        "##Data Exploration"
      ]
    },
    {
      "cell_type": "code",
      "metadata": {
        "colab_type": "code",
        "id": "quLmOu3AsAXr",
        "outputId": "9b8872dc-4d8f-4671-89e2-fbb1c07e7c0b",
        "colab": {
          "base_uri": "https://localhost:8080/",
          "height": 224
        }
      },
      "source": [
        "df.head()"
      ],
      "execution_count": 4,
      "outputs": [
        {
          "output_type": "execute_result",
          "data": {
            "text/html": [
              "<div>\n",
              "<style scoped>\n",
              "    .dataframe tbody tr th:only-of-type {\n",
              "        vertical-align: middle;\n",
              "    }\n",
              "\n",
              "    .dataframe tbody tr th {\n",
              "        vertical-align: top;\n",
              "    }\n",
              "\n",
              "    .dataframe thead th {\n",
              "        text-align: right;\n",
              "    }\n",
              "</style>\n",
              "<table border=\"1\" class=\"dataframe\">\n",
              "  <thead>\n",
              "    <tr style=\"text-align: right;\">\n",
              "      <th></th>\n",
              "      <th>sex</th>\n",
              "      <th>age</th>\n",
              "      <th>famsize</th>\n",
              "      <th>Medu</th>\n",
              "      <th>Fedu</th>\n",
              "      <th>Mjob</th>\n",
              "      <th>Fjob</th>\n",
              "      <th>guardian</th>\n",
              "      <th>traveltime</th>\n",
              "      <th>studytime</th>\n",
              "      <th>failures</th>\n",
              "      <th>schoolsup</th>\n",
              "      <th>famsup</th>\n",
              "      <th>paid</th>\n",
              "      <th>activities</th>\n",
              "      <th>higher</th>\n",
              "      <th>internet</th>\n",
              "      <th>famrel</th>\n",
              "      <th>freetime</th>\n",
              "      <th>goout</th>\n",
              "      <th>health</th>\n",
              "      <th>absences</th>\n",
              "      <th>G1</th>\n",
              "      <th>G2</th>\n",
              "      <th>G3</th>\n",
              "    </tr>\n",
              "  </thead>\n",
              "  <tbody>\n",
              "    <tr>\n",
              "      <th>0</th>\n",
              "      <td>0</td>\n",
              "      <td>18</td>\n",
              "      <td>0</td>\n",
              "      <td>4</td>\n",
              "      <td>4</td>\n",
              "      <td>0</td>\n",
              "      <td>0</td>\n",
              "      <td>0</td>\n",
              "      <td>2</td>\n",
              "      <td>2</td>\n",
              "      <td>0</td>\n",
              "      <td>0</td>\n",
              "      <td>0</td>\n",
              "      <td>0</td>\n",
              "      <td>0</td>\n",
              "      <td>0</td>\n",
              "      <td>0</td>\n",
              "      <td>4</td>\n",
              "      <td>3</td>\n",
              "      <td>4</td>\n",
              "      <td>3</td>\n",
              "      <td>6</td>\n",
              "      <td>5</td>\n",
              "      <td>6</td>\n",
              "      <td>6.0</td>\n",
              "    </tr>\n",
              "    <tr>\n",
              "      <th>1</th>\n",
              "      <td>0</td>\n",
              "      <td>17</td>\n",
              "      <td>0</td>\n",
              "      <td>1</td>\n",
              "      <td>1</td>\n",
              "      <td>0</td>\n",
              "      <td>1</td>\n",
              "      <td>1</td>\n",
              "      <td>1</td>\n",
              "      <td>2</td>\n",
              "      <td>0</td>\n",
              "      <td>1</td>\n",
              "      <td>1</td>\n",
              "      <td>0</td>\n",
              "      <td>0</td>\n",
              "      <td>0</td>\n",
              "      <td>1</td>\n",
              "      <td>5</td>\n",
              "      <td>3</td>\n",
              "      <td>3</td>\n",
              "      <td>3</td>\n",
              "      <td>4</td>\n",
              "      <td>5</td>\n",
              "      <td>5</td>\n",
              "      <td>6.0</td>\n",
              "    </tr>\n",
              "    <tr>\n",
              "      <th>2</th>\n",
              "      <td>0</td>\n",
              "      <td>15</td>\n",
              "      <td>1</td>\n",
              "      <td>1</td>\n",
              "      <td>1</td>\n",
              "      <td>0</td>\n",
              "      <td>1</td>\n",
              "      <td>0</td>\n",
              "      <td>1</td>\n",
              "      <td>2</td>\n",
              "      <td>3</td>\n",
              "      <td>0</td>\n",
              "      <td>0</td>\n",
              "      <td>1</td>\n",
              "      <td>0</td>\n",
              "      <td>0</td>\n",
              "      <td>1</td>\n",
              "      <td>4</td>\n",
              "      <td>3</td>\n",
              "      <td>2</td>\n",
              "      <td>3</td>\n",
              "      <td>10</td>\n",
              "      <td>7</td>\n",
              "      <td>8</td>\n",
              "      <td>10.0</td>\n",
              "    </tr>\n",
              "    <tr>\n",
              "      <th>3</th>\n",
              "      <td>0</td>\n",
              "      <td>15</td>\n",
              "      <td>0</td>\n",
              "      <td>4</td>\n",
              "      <td>2</td>\n",
              "      <td>1</td>\n",
              "      <td>2</td>\n",
              "      <td>0</td>\n",
              "      <td>1</td>\n",
              "      <td>3</td>\n",
              "      <td>0</td>\n",
              "      <td>1</td>\n",
              "      <td>1</td>\n",
              "      <td>1</td>\n",
              "      <td>1</td>\n",
              "      <td>0</td>\n",
              "      <td>1</td>\n",
              "      <td>3</td>\n",
              "      <td>2</td>\n",
              "      <td>2</td>\n",
              "      <td>5</td>\n",
              "      <td>2</td>\n",
              "      <td>15</td>\n",
              "      <td>14</td>\n",
              "      <td>15.0</td>\n",
              "    </tr>\n",
              "    <tr>\n",
              "      <th>4</th>\n",
              "      <td>0</td>\n",
              "      <td>16</td>\n",
              "      <td>0</td>\n",
              "      <td>3</td>\n",
              "      <td>3</td>\n",
              "      <td>2</td>\n",
              "      <td>1</td>\n",
              "      <td>1</td>\n",
              "      <td>1</td>\n",
              "      <td>2</td>\n",
              "      <td>0</td>\n",
              "      <td>1</td>\n",
              "      <td>1</td>\n",
              "      <td>1</td>\n",
              "      <td>0</td>\n",
              "      <td>0</td>\n",
              "      <td>0</td>\n",
              "      <td>4</td>\n",
              "      <td>3</td>\n",
              "      <td>2</td>\n",
              "      <td>5</td>\n",
              "      <td>4</td>\n",
              "      <td>6</td>\n",
              "      <td>10</td>\n",
              "      <td>10.0</td>\n",
              "    </tr>\n",
              "  </tbody>\n",
              "</table>\n",
              "</div>"
            ],
            "text/plain": [
              "   sex  age  famsize  Medu  Fedu  Mjob  ...  goout  health  absences  G1  G2    G3\n",
              "0    0   18        0     4     4     0  ...      4       3         6   5   6   6.0\n",
              "1    0   17        0     1     1     0  ...      3       3         4   5   5   6.0\n",
              "2    0   15        1     1     1     0  ...      2       3        10   7   8  10.0\n",
              "3    0   15        0     4     2     1  ...      2       5         2  15  14  15.0\n",
              "4    0   16        0     3     3     2  ...      2       5         4   6  10  10.0\n",
              "\n",
              "[5 rows x 25 columns]"
            ]
          },
          "metadata": {
            "tags": []
          },
          "execution_count": 4
        }
      ]
    },
    {
      "cell_type": "code",
      "metadata": {
        "id": "qIxIW2dIugMC",
        "colab_type": "code",
        "colab": {
          "base_uri": "https://localhost:8080/",
          "height": 561
        },
        "outputId": "537fec41-032d-4368-d3e0-26102e2f3343"
      },
      "source": [
        "df.info()"
      ],
      "execution_count": 5,
      "outputs": [
        {
          "output_type": "stream",
          "text": [
            "<class 'pandas.core.frame.DataFrame'>\n",
            "RangeIndex: 357 entries, 0 to 356\n",
            "Data columns (total 25 columns):\n",
            " #   Column      Non-Null Count  Dtype  \n",
            "---  ------      --------------  -----  \n",
            " 0   sex         357 non-null    int64  \n",
            " 1   age         357 non-null    int64  \n",
            " 2   famsize     357 non-null    int64  \n",
            " 3   Medu        357 non-null    int64  \n",
            " 4   Fedu        357 non-null    int64  \n",
            " 5   Mjob        357 non-null    int64  \n",
            " 6   Fjob        357 non-null    int64  \n",
            " 7   guardian    357 non-null    int64  \n",
            " 8   traveltime  357 non-null    int64  \n",
            " 9   studytime   357 non-null    int64  \n",
            " 10  failures    357 non-null    int64  \n",
            " 11  schoolsup   357 non-null    int64  \n",
            " 12  famsup      357 non-null    int64  \n",
            " 13  paid        357 non-null    int64  \n",
            " 14  activities  357 non-null    int64  \n",
            " 15  higher      357 non-null    int64  \n",
            " 16  internet    357 non-null    int64  \n",
            " 17  famrel      357 non-null    int64  \n",
            " 18  freetime    357 non-null    int64  \n",
            " 19  goout       357 non-null    int64  \n",
            " 20  health      357 non-null    int64  \n",
            " 21  absences    357 non-null    int64  \n",
            " 22  G1          357 non-null    int64  \n",
            " 23  G2          357 non-null    int64  \n",
            " 24  G3          357 non-null    float64\n",
            "dtypes: float64(1), int64(24)\n",
            "memory usage: 69.9 KB\n"
          ],
          "name": "stdout"
        }
      ]
    },
    {
      "cell_type": "markdown",
      "metadata": {
        "colab_type": "text",
        "id": "KIU6C8xlj2yA"
      },
      "source": [
        "\n",
        "\n",
        "##Start Model Development\n",
        "\n"
      ]
    },
    {
      "cell_type": "code",
      "metadata": {
        "colab_type": "code",
        "id": "qI9vPgwM07Be",
        "colab": {}
      },
      "source": [
        "#Define labels and features\n",
        "labels = df['G3'].values\n",
        "features = df.drop(['G3'],axis=1).values"
      ],
      "execution_count": 0,
      "outputs": []
    },
    {
      "cell_type": "markdown",
      "metadata": {
        "colab_type": "text",
        "id": "wGY1T5p11Uf3"
      },
      "source": [
        "1. **Spilt data**"
      ]
    },
    {
      "cell_type": "code",
      "metadata": {
        "colab_type": "code",
        "id": "-acBrdWQ1LeN",
        "outputId": "270032a4-2cb2-459f-e834-f571198ca659",
        "colab": {
          "base_uri": "https://localhost:8080/",
          "height": 34
        }
      },
      "source": [
        "#Spilt the data; 30% for testing and 70% for training\n",
        "X_train, X_test, y_train, y_test = train_test_split(features, labels, test_size=0.30)\n",
        "print(X_train.shape, X_test.shape, y_train.shape, y_test.shape)"
      ],
      "execution_count": 7,
      "outputs": [
        {
          "output_type": "stream",
          "text": [
            "(249, 24) (108, 24) (249,) (108,)\n"
          ],
          "name": "stdout"
        }
      ]
    },
    {
      "cell_type": "markdown",
      "metadata": {
        "colab_type": "text",
        "id": "-LHLQk3g1x_0"
      },
      "source": [
        "\n",
        "   2. **Bulid, Train and Evaluate the Model**\n"
      ]
    },
    {
      "cell_type": "code",
      "metadata": {
        "colab_type": "code",
        "id": "ztvNxBeo10T2",
        "outputId": "c72fb1b4-2df6-43a7-f0ae-08c6d932ab60",
        "colab": {
          "base_uri": "https://localhost:8080/",
          "height": 51
        }
      },
      "source": [
        "# Build The structure of Model\n",
        "\n",
        "model=linear_model.LinearRegression()\n",
        "\n",
        "# Train the Model\n",
        "model.fit(X_train, y_train)\n",
        "\n",
        "# Evaluate\n",
        "Accuracy = model.score(X_train, y_train)\n",
        "print (\"Accuracy of the training : \", Accuracy*100)\n",
        "\n",
        "accuracy = model.score(X_test, y_test)\n",
        "print (\"Accuracy of the testing : \", accuracy*100)\n"
      ],
      "execution_count": 8,
      "outputs": [
        {
          "output_type": "stream",
          "text": [
            "Accuracy of the training :  94.0974884929127\n",
            "Accuracy of the testing :  92.90518856857933\n"
          ],
          "name": "stdout"
        }
      ]
    },
    {
      "cell_type": "markdown",
      "metadata": {
        "id": "hISh9btMxpZb",
        "colab_type": "text"
      },
      "source": [
        "3. **Predict**"
      ]
    },
    {
      "cell_type": "code",
      "metadata": {
        "colab_type": "code",
        "id": "NlHvo7t6Q_PU",
        "outputId": "10cb3a00-cf3d-45b2-8fe0-c918f076dfd9",
        "colab": {
          "base_uri": "https://localhost:8080/",
          "height": 51
        }
      },
      "source": [
        "# Predict \n",
        "predict = model.predict(X_test)\n",
        "idx= np.random.choice(X_test.shape[0]) \n",
        "print (\"Predicted final grade : \", predict[idx])\n",
        "print (\"Real final grade : \", y_test[idx])"
      ],
      "execution_count": 22,
      "outputs": [
        {
          "output_type": "stream",
          "text": [
            "Predicted final grade :  6.27185530629771\n",
            "Real final grade :  6.0\n"
          ],
          "name": "stdout"
        }
      ]
    },
    {
      "cell_type": "markdown",
      "metadata": {
        "id": "FkcytWE9x5wF",
        "colab_type": "text"
      },
      "source": [
        "4. **Visualize**"
      ]
    },
    {
      "cell_type": "code",
      "metadata": {
        "colab_type": "code",
        "id": "6n8yZTCWLemP",
        "outputId": "ffbee6cd-731c-4f9f-97e8-5de691b8536b",
        "colab": {
          "base_uri": "https://localhost:8080/",
          "height": 623
        }
      },
      "source": [
        "# visualization\n",
        "plt.figure(figsize=(10,10))\n",
        "plt.scatter(y_test, predict,  color='Grey')\n",
        "plt.scatter(y_test[idx], predict[idx] , color='blue')\n",
        "plt.xlabel('Real final grade')\n",
        "plt.ylabel('Predicted final grade')\n",
        "plt.plot([0, 30], [0, 30], color='red')"
      ],
      "execution_count": 23,
      "outputs": [
        {
          "output_type": "execute_result",
          "data": {
            "text/plain": [
              "[<matplotlib.lines.Line2D at 0x7f6297d0e630>]"
            ]
          },
          "metadata": {
            "tags": []
          },
          "execution_count": 23
        },
        {
          "output_type": "display_data",
          "data": {
            "image/png": "[encoded data removed]",
            "text/plain": [
              "<Figure size 720x720 with 1 Axes>"
            ]
          },
          "metadata": {
            "tags": [],
            "needs_background": "light"
          }
        }
      ]
    },
    {
      "cell_type": "markdown",
      "metadata": {
        "id": "7cQbtaefnzdD",
        "colab_type": "text"
      },
      "source": [
        "#Save, Load and Use the Model"
      ]
    },
    {
      "cell_type": "code",
      "metadata": {
        "id": "e0lP9GCSn31-",
        "colab_type": "code",
        "outputId": "6ad80222-1f8b-4a5d-8e2a-0d14e1f454be",
        "colab": {
          "base_uri": "https://localhost:8080/",
          "height": 34
        }
      },
      "source": [
        "# Output a pickle file for the model\n",
        "joblib.dump(model, 'saved_model.pkl') "
      ],
      "execution_count": 11,
      "outputs": [
        {
          "output_type": "execute_result",
          "data": {
            "text/plain": [
              "['saved_model.pkl']"
            ]
          },
          "metadata": {
            "tags": []
          },
          "execution_count": 11
        }
      ]
    },
    {
      "cell_type": "code",
      "metadata": {
        "id": "4DtoaNyqov61",
        "colab_type": "code",
        "colab": {}
      },
      "source": [
        "# Load the pickle file\n",
        "model_load = joblib.load('saved_model.pkl') "
      ],
      "execution_count": 0,
      "outputs": []
    },
    {
      "cell_type": "code",
      "metadata": {
        "id": "IS6jxK4TrCCM",
        "colab_type": "code",
        "outputId": "8cde339f-6e61-463e-e65d-a5e221929efb",
        "colab": {
          "base_uri": "https://localhost:8080/",
          "height": 34
        }
      },
      "source": [
        "#check if it the same model by print the score for test set\n",
        "result = model_load.score(X_test, y_test)\n",
        "print(result)"
      ],
      "execution_count": 13,
      "outputs": [
        {
          "output_type": "stream",
          "text": [
            "0.9290518856857933\n"
          ],
          "name": "stdout"
        }
      ]
    },
    {
      "cell_type": "code",
      "metadata": {
        "id": "pqbBk-ArDa6K",
        "colab_type": "code",
        "colab": {
          "base_uri": "https://localhost:8080/",
          "height": 102
        },
        "outputId": "c80bbdf7-2143-456b-cfd6-15fa39a83da8"
      },
      "source": [
        "df.columns"
      ],
      "execution_count": 14,
      "outputs": [
        {
          "output_type": "execute_result",
          "data": {
            "text/plain": [
              "Index(['sex', 'age', 'famsize', 'Medu', 'Fedu', 'Mjob', 'Fjob', 'guardian',\n",
              "       'traveltime', 'studytime', 'failures', 'schoolsup', 'famsup', 'paid',\n",
              "       'activities', 'higher', 'internet', 'famrel', 'freetime', 'goout',\n",
              "       'health', 'absences', 'G1', 'G2', 'G3'],\n",
              "      dtype='object')"
            ]
          },
          "metadata": {
            "tags": []
          },
          "execution_count": 14
        }
      ]
    },
    {
      "cell_type": "code",
      "metadata": {
        "id": "VLkyGsa6rK_U",
        "colab_type": "code",
        "outputId": "cbfdd2b1-abc9-4c57-f6f3-b488465fef4a",
        "colab": {
          "base_uri": "https://localhost:8080/",
          "height": 34
        }
      },
      "source": [
        "#use the saved model for prediction\n",
        "exmaple_input= [  1, 18 , 1 , 2 , 3  ,2 , 2,  1 , 1 , 1 , 1 , 1 , 0 , 1 , 1 , 4 , 2 , 5 , 1 , 2 , 5 , 2 , 18,  20]\n",
        "exmaple_predict= model_load.predict(np.array( [exmaple_input,]))\n",
        "print(\"Predicted example input : \", exmaple_predict)\n"
      ],
      "execution_count": 15,
      "outputs": [
        {
          "output_type": "stream",
          "text": [
            "Predicted example input :  [20.78390659]\n"
          ],
          "name": "stdout"
        }
      ]
    }
  ]
}
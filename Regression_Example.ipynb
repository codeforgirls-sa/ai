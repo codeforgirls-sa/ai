{
  "nbformat": 4,
  "nbformat_minor": 0,
  "metadata": {
    "colab": {
      "name": "Regression Example.ipynb",
      "provenance": [],
      "collapsed_sections": [],
      "include_colab_link": true
    },
    "language_info": {
      "codemirror_mode": {
        "name": "ipython",
        "version": 3
      },
      "file_extension": ".py",
      "mimetype": "text/x-python",
      "name": "python",
      "nbconvert_exporter": "python",
      "pygments_lexer": "ipython3",
      "version": "3.7.3"
    },
    "kernelspec": {
      "display_name": "Python 3",
      "language": "python",
      "name": "python3"
    },
    "accelerator": "TPU"
  },
  "cells": [
    {
      "cell_type": "markdown",
      "metadata": {
        "id": "view-in-github",
        "colab_type": "text"
      },
      "source": [
        "<a href=\"https://colab.research.google.com/github/codeforgirls-sa/ml/blob/master/Regression_Example.ipynb\" target=\"_parent\"><img src=\"https://colab.research.google.com/assets/colab-badge.svg\" alt=\"Open In Colab\"/></a>"
      ]
    },
    {
      "cell_type": "markdown",
      "metadata": {
        "colab_type": "text",
        "id": "G1bxIJRbqcIt"
      },
      "source": [
        "# Regression Example\n",
        "\n"
      ]
    },
    {
      "cell_type": "markdown",
      "metadata": {
        "id": "yACzjmNu27df",
        "colab_type": "text"
      },
      "source": [
        "<h1> Contents </h1>"
      ]
    },
    {
      "cell_type": "markdown",
      "metadata": {
        "id": "nlNttE5uibGv",
        "colab_type": "text"
      },
      "source": [
        "\n",
        "\n",
        "\n",
        "\n",
        "\n",
        "\n",
        "\n",
        "* Understand Data \n",
        "* Model Development\n",
        "* Save the Model\n",
        "\n",
        "\n",
        "\n",
        "\n",
        "\n",
        "---\n",
        "\n",
        " \n",
        "\n",
        "\n",
        "\n"
      ]
    },
    {
      "cell_type": "markdown",
      "metadata": {
        "id": "D-oxlcV4lTUb",
        "colab_type": "text"
      },
      "source": [
        "#Understand Data\n",
        " <h2>Read Dataset Description</h2>\n",
        "We want to predict students performance in math in secondary education of a high school. Please read the description of data set before start.\n",
        "\n",
        " "
      ]
    },
    {
      "cell_type": "markdown",
      "metadata": {
        "id": "A_wjEmvQyUuL",
        "colab_type": "text"
      },
      "source": [
        "### Dataset info\n",
        "This data approaches student achievement in a secondary school for Math. The data attributes include student grades, demographic, social and school related features. It was collected by using school reports and questionnaires.\n",
        "![alt text](https://github.com/codeforgirls-sa/ml/blob/master/Dataset%20info.jpg?raw=true)"
      ]
    },
    {
      "cell_type": "markdown",
      "metadata": {
        "id": "yX-0gXOXzNMI",
        "colab_type": "text"
      },
      "source": [
        "![alt text](https://github.com/Ruqyai/Files/blob/master/workflow.png?raw=true)"
      ]
    },
    {
      "cell_type": "markdown",
      "metadata": {
        "colab_type": "text",
        "id": "ytcjztxnjS1b"
      },
      "source": [
        "\n",
        "\n",
        "###Import libraries\n",
        "\n",
        "\n"
      ]
    },
    {
      "cell_type": "code",
      "metadata": {
        "colab_type": "code",
        "id": "M2d6rYP_i_hx",
        "colab": {}
      },
      "source": [
        "import numpy as np\n",
        "import pandas as pd\n",
        "import matplotlib.pyplot as plt\n",
        "from sklearn.model_selection import train_test_split\n",
        "from sklearn import linear_model\n",
        "import pickle"
      ],
      "execution_count": 0,
      "outputs": []
    },
    {
      "cell_type": "markdown",
      "metadata": {
        "colab_type": "text",
        "id": "EexajtmcrZ0t"
      },
      "source": [
        "### Load the dataset"
      ]
    },
    {
      "cell_type": "code",
      "metadata": {
        "id": "AVbH3yGaXCGk",
        "colab_type": "code",
        "colab": {}
      },
      "source": [
        "filename = \"https://raw.githubusercontent.com/codeforgirls-sa/ml/master/math_cleaned_data.csv\"\n"
      ],
      "execution_count": 0,
      "outputs": []
    },
    {
      "cell_type": "markdown",
      "metadata": {
        "colab_type": "text",
        "id": "eVdWi-vQsN-o"
      },
      "source": [
        "###Read the dataset"
      ]
    },
    {
      "cell_type": "code",
      "metadata": {
        "colab_type": "code",
        "id": "ytaabSN1kEjY",
        "colab": {}
      },
      "source": [
        "#import pandas as pd\n",
        "df = pd.read_csv(filename)"
      ],
      "execution_count": 0,
      "outputs": []
    },
    {
      "cell_type": "markdown",
      "metadata": {
        "colab_type": "text",
        "id": "9BLux0Gdr6tf"
      },
      "source": [
        "##Data Exploration"
      ]
    },
    {
      "cell_type": "code",
      "metadata": {
        "colab_type": "code",
        "id": "quLmOu3AsAXr",
        "outputId": "5c261d1d-b48b-4ccb-904d-d9ea26102ca7",
        "colab": {
          "base_uri": "https://localhost:8080/",
          "height": 224
        }
      },
      "source": [
        "df.head()"
      ],
      "execution_count": 28,
      "outputs": [
        {
          "output_type": "execute_result",
          "data": {
            "text/html": [
              "<div>\n",
              "<style scoped>\n",
              "    .dataframe tbody tr th:only-of-type {\n",
              "        vertical-align: middle;\n",
              "    }\n",
              "\n",
              "    .dataframe tbody tr th {\n",
              "        vertical-align: top;\n",
              "    }\n",
              "\n",
              "    .dataframe thead th {\n",
              "        text-align: right;\n",
              "    }\n",
              "</style>\n",
              "<table border=\"1\" class=\"dataframe\">\n",
              "  <thead>\n",
              "    <tr style=\"text-align: right;\">\n",
              "      <th></th>\n",
              "      <th>sex</th>\n",
              "      <th>age</th>\n",
              "      <th>famsize</th>\n",
              "      <th>Medu</th>\n",
              "      <th>Fedu</th>\n",
              "      <th>Mjob</th>\n",
              "      <th>Fjob</th>\n",
              "      <th>guardian</th>\n",
              "      <th>traveltime</th>\n",
              "      <th>studytime</th>\n",
              "      <th>failures</th>\n",
              "      <th>schoolsup</th>\n",
              "      <th>famsup</th>\n",
              "      <th>paid</th>\n",
              "      <th>activities</th>\n",
              "      <th>higher</th>\n",
              "      <th>internet</th>\n",
              "      <th>famrel</th>\n",
              "      <th>freetime</th>\n",
              "      <th>goout</th>\n",
              "      <th>health</th>\n",
              "      <th>absences</th>\n",
              "      <th>G1</th>\n",
              "      <th>G2</th>\n",
              "      <th>G3</th>\n",
              "    </tr>\n",
              "  </thead>\n",
              "  <tbody>\n",
              "    <tr>\n",
              "      <th>0</th>\n",
              "      <td>0</td>\n",
              "      <td>18</td>\n",
              "      <td>0</td>\n",
              "      <td>4</td>\n",
              "      <td>4</td>\n",
              "      <td>0</td>\n",
              "      <td>0</td>\n",
              "      <td>0</td>\n",
              "      <td>2</td>\n",
              "      <td>2</td>\n",
              "      <td>0</td>\n",
              "      <td>0</td>\n",
              "      <td>0</td>\n",
              "      <td>0</td>\n",
              "      <td>0</td>\n",
              "      <td>0</td>\n",
              "      <td>0</td>\n",
              "      <td>4</td>\n",
              "      <td>3</td>\n",
              "      <td>4</td>\n",
              "      <td>3</td>\n",
              "      <td>6</td>\n",
              "      <td>5</td>\n",
              "      <td>6</td>\n",
              "      <td>6.0</td>\n",
              "    </tr>\n",
              "    <tr>\n",
              "      <th>1</th>\n",
              "      <td>0</td>\n",
              "      <td>17</td>\n",
              "      <td>0</td>\n",
              "      <td>1</td>\n",
              "      <td>1</td>\n",
              "      <td>0</td>\n",
              "      <td>1</td>\n",
              "      <td>1</td>\n",
              "      <td>1</td>\n",
              "      <td>2</td>\n",
              "      <td>0</td>\n",
              "      <td>1</td>\n",
              "      <td>1</td>\n",
              "      <td>0</td>\n",
              "      <td>0</td>\n",
              "      <td>0</td>\n",
              "      <td>1</td>\n",
              "      <td>5</td>\n",
              "      <td>3</td>\n",
              "      <td>3</td>\n",
              "      <td>3</td>\n",
              "      <td>4</td>\n",
              "      <td>5</td>\n",
              "      <td>5</td>\n",
              "      <td>6.0</td>\n",
              "    </tr>\n",
              "    <tr>\n",
              "      <th>2</th>\n",
              "      <td>0</td>\n",
              "      <td>15</td>\n",
              "      <td>1</td>\n",
              "      <td>1</td>\n",
              "      <td>1</td>\n",
              "      <td>0</td>\n",
              "      <td>1</td>\n",
              "      <td>0</td>\n",
              "      <td>1</td>\n",
              "      <td>2</td>\n",
              "      <td>3</td>\n",
              "      <td>0</td>\n",
              "      <td>0</td>\n",
              "      <td>1</td>\n",
              "      <td>0</td>\n",
              "      <td>0</td>\n",
              "      <td>1</td>\n",
              "      <td>4</td>\n",
              "      <td>3</td>\n",
              "      <td>2</td>\n",
              "      <td>3</td>\n",
              "      <td>10</td>\n",
              "      <td>7</td>\n",
              "      <td>8</td>\n",
              "      <td>10.0</td>\n",
              "    </tr>\n",
              "    <tr>\n",
              "      <th>3</th>\n",
              "      <td>0</td>\n",
              "      <td>15</td>\n",
              "      <td>0</td>\n",
              "      <td>4</td>\n",
              "      <td>2</td>\n",
              "      <td>1</td>\n",
              "      <td>2</td>\n",
              "      <td>0</td>\n",
              "      <td>1</td>\n",
              "      <td>3</td>\n",
              "      <td>0</td>\n",
              "      <td>1</td>\n",
              "      <td>1</td>\n",
              "      <td>1</td>\n",
              "      <td>1</td>\n",
              "      <td>0</td>\n",
              "      <td>1</td>\n",
              "      <td>3</td>\n",
              "      <td>2</td>\n",
              "      <td>2</td>\n",
              "      <td>5</td>\n",
              "      <td>2</td>\n",
              "      <td>15</td>\n",
              "      <td>14</td>\n",
              "      <td>15.0</td>\n",
              "    </tr>\n",
              "    <tr>\n",
              "      <th>4</th>\n",
              "      <td>0</td>\n",
              "      <td>16</td>\n",
              "      <td>0</td>\n",
              "      <td>3</td>\n",
              "      <td>3</td>\n",
              "      <td>2</td>\n",
              "      <td>1</td>\n",
              "      <td>1</td>\n",
              "      <td>1</td>\n",
              "      <td>2</td>\n",
              "      <td>0</td>\n",
              "      <td>1</td>\n",
              "      <td>1</td>\n",
              "      <td>1</td>\n",
              "      <td>0</td>\n",
              "      <td>0</td>\n",
              "      <td>0</td>\n",
              "      <td>4</td>\n",
              "      <td>3</td>\n",
              "      <td>2</td>\n",
              "      <td>5</td>\n",
              "      <td>4</td>\n",
              "      <td>6</td>\n",
              "      <td>10</td>\n",
              "      <td>10.0</td>\n",
              "    </tr>\n",
              "  </tbody>\n",
              "</table>\n",
              "</div>"
            ],
            "text/plain": [
              "   sex  age  famsize  Medu  Fedu  Mjob  ...  goout  health  absences  G1  G2    G3\n",
              "0    0   18        0     4     4     0  ...      4       3         6   5   6   6.0\n",
              "1    0   17        0     1     1     0  ...      3       3         4   5   5   6.0\n",
              "2    0   15        1     1     1     0  ...      2       3        10   7   8  10.0\n",
              "3    0   15        0     4     2     1  ...      2       5         2  15  14  15.0\n",
              "4    0   16        0     3     3     2  ...      2       5         4   6  10  10.0\n",
              "\n",
              "[5 rows x 25 columns]"
            ]
          },
          "metadata": {
            "tags": []
          },
          "execution_count": 28
        }
      ]
    },
    {
      "cell_type": "code",
      "metadata": {
        "id": "qIxIW2dIugMC",
        "colab_type": "code",
        "outputId": "3c667074-ea04-4ed8-d405-50c783abb455",
        "colab": {
          "base_uri": "https://localhost:8080/",
          "height": 561
        }
      },
      "source": [
        "df.info()"
      ],
      "execution_count": 29,
      "outputs": [
        {
          "output_type": "stream",
          "text": [
            "<class 'pandas.core.frame.DataFrame'>\n",
            "RangeIndex: 357 entries, 0 to 356\n",
            "Data columns (total 25 columns):\n",
            " #   Column      Non-Null Count  Dtype  \n",
            "---  ------      --------------  -----  \n",
            " 0   sex         357 non-null    int64  \n",
            " 1   age         357 non-null    int64  \n",
            " 2   famsize     357 non-null    int64  \n",
            " 3   Medu        357 non-null    int64  \n",
            " 4   Fedu        357 non-null    int64  \n",
            " 5   Mjob        357 non-null    int64  \n",
            " 6   Fjob        357 non-null    int64  \n",
            " 7   guardian    357 non-null    int64  \n",
            " 8   traveltime  357 non-null    int64  \n",
            " 9   studytime   357 non-null    int64  \n",
            " 10  failures    357 non-null    int64  \n",
            " 11  schoolsup   357 non-null    int64  \n",
            " 12  famsup      357 non-null    int64  \n",
            " 13  paid        357 non-null    int64  \n",
            " 14  activities  357 non-null    int64  \n",
            " 15  higher      357 non-null    int64  \n",
            " 16  internet    357 non-null    int64  \n",
            " 17  famrel      357 non-null    int64  \n",
            " 18  freetime    357 non-null    int64  \n",
            " 19  goout       357 non-null    int64  \n",
            " 20  health      357 non-null    int64  \n",
            " 21  absences    357 non-null    int64  \n",
            " 22  G1          357 non-null    int64  \n",
            " 23  G2          357 non-null    int64  \n",
            " 24  G3          357 non-null    float64\n",
            "dtypes: float64(1), int64(24)\n",
            "memory usage: 69.9 KB\n"
          ],
          "name": "stdout"
        }
      ]
    },
    {
      "cell_type": "markdown",
      "metadata": {
        "colab_type": "text",
        "id": "KIU6C8xlj2yA"
      },
      "source": [
        "\n",
        "\n",
        "##Start Model Development\n",
        "  1. **Define labels and features**\n",
        "\n"
      ]
    },
    {
      "cell_type": "code",
      "metadata": {
        "colab_type": "code",
        "id": "qI9vPgwM07Be",
        "colab": {}
      },
      "source": [
        "#Define labels and features\n",
        "labels = df['G3'].values\n",
        "features = df.drop(['G3'],axis=1).values"
      ],
      "execution_count": 0,
      "outputs": []
    },
    {
      "cell_type": "markdown",
      "metadata": {
        "colab_type": "text",
        "id": "wGY1T5p11Uf3"
      },
      "source": [
        "2. **Spilt data**"
      ]
    },
    {
      "cell_type": "code",
      "metadata": {
        "colab_type": "code",
        "id": "-acBrdWQ1LeN",
        "outputId": "3153e4d7-1ac9-41a7-d3e1-d73650e75737",
        "colab": {
          "base_uri": "https://localhost:8080/",
          "height": 34
        }
      },
      "source": [
        "#Spilt the data; 30% for testing and 70% for training\n",
        "\n",
        "# from sklearn.model_selection import train_test_split\n",
        "X_train, X_test, y_train, y_test = train_test_split(features, labels, test_size=0.30)\n",
        "print(X_train.shape, X_test.shape, y_train.shape, y_test.shape)"
      ],
      "execution_count": 31,
      "outputs": [
        {
          "output_type": "stream",
          "text": [
            "(249, 24) (108, 24) (249,) (108,)\n"
          ],
          "name": "stdout"
        }
      ]
    },
    {
      "cell_type": "markdown",
      "metadata": {
        "colab_type": "text",
        "id": "-LHLQk3g1x_0"
      },
      "source": [
        "\n",
        "   3. **Bulid, Train and Evaluate the Model**\n"
      ]
    },
    {
      "cell_type": "code",
      "metadata": {
        "colab_type": "code",
        "id": "ztvNxBeo10T2",
        "outputId": "c4406ef6-add3-4134-d45f-0ecbb6e2ad7a",
        "colab": {
          "base_uri": "https://localhost:8080/",
          "height": 51
        }
      },
      "source": [
        "# Build The Model\n",
        "\n",
        "#from sklearn import linear_model\n",
        "model=linear_model.LinearRegression()  \n",
        "\n",
        "# Train the Model\n",
        "model.fit(X_train, y_train)\n",
        "\n",
        "# Evaluate\n",
        "Accuracy = model.score(X_train, y_train)\n",
        "print (\"Accuracy of the training : \", Accuracy*100)\n",
        "\n",
        "accuracy = model.score(X_test, y_test)\n",
        "print (\"Accuracy of the testing : \", accuracy*100)\n"
      ],
      "execution_count": 32,
      "outputs": [
        {
          "output_type": "stream",
          "text": [
            "Accuracy of the training :  93.8632873691374\n",
            "Accuracy of the testing :  93.76001485581179\n"
          ],
          "name": "stdout"
        }
      ]
    },
    {
      "cell_type": "markdown",
      "metadata": {
        "id": "hISh9btMxpZb",
        "colab_type": "text"
      },
      "source": [
        "4. **Predict**"
      ]
    },
    {
      "cell_type": "code",
      "metadata": {
        "colab_type": "code",
        "id": "NlHvo7t6Q_PU",
        "outputId": "523ea3ed-cea9-4e02-bd04-c9443a9f9677",
        "colab": {
          "base_uri": "https://localhost:8080/",
          "height": 51
        }
      },
      "source": [
        "# Predict \n",
        "predict = model.predict(X_test)\n",
        "idx= np.random.choice(X_test.shape[0]) #import numpy as np   X_test.shape ==> (108, 24)  X_test.shape[0] ==> 108\n",
        "print (\"Predicted final grade : \", predict[idx])\n",
        "print (\"Real final grade : \", y_test[idx])"
      ],
      "execution_count": 33,
      "outputs": [
        {
          "output_type": "stream",
          "text": [
            "Predicted final grade :  17.926183322623793\n",
            "Real final grade :  18.0\n"
          ],
          "name": "stdout"
        }
      ]
    },
    {
      "cell_type": "markdown",
      "metadata": {
        "id": "FkcytWE9x5wF",
        "colab_type": "text"
      },
      "source": [
        "5. **Visualize**"
      ]
    },
    {
      "cell_type": "code",
      "metadata": {
        "colab_type": "code",
        "id": "6n8yZTCWLemP",
        "outputId": "2471f0a7-070d-47b6-d354-b9891e6e01dc",
        "colab": {
          "base_uri": "https://localhost:8080/",
          "height": 623
        }
      },
      "source": [
        "# visualization\n",
        "\n",
        "#import matplotlib.pyplot as plt\n",
        "plt.figure(figsize=(10,10))  \n",
        "plt.scatter(y_test, predict,  color='Grey')\n",
        "plt.scatter(y_test[idx], predict[idx] , color='blue')\n",
        "plt.xlabel('Real final grade')\n",
        "plt.ylabel('Predicted final grade')\n",
        "plt.plot([0, 30], [0, 30], color='red')"
      ],
      "execution_count": 34,
      "outputs": [
        {
          "output_type": "execute_result",
          "data": {
            "text/plain": [
              "[<matplotlib.lines.Line2D at 0x7f15380bb550>]"
            ]
          },
          "metadata": {
            "tags": []
          },
          "execution_count": 34
        },
        {
          "output_type": "display_data",
          "data": {
            "image/png": "[encoded data removed]",
            "text/plain": [
              "<Figure size 720x720 with 1 Axes>"
            ]
          },
          "metadata": {
            "tags": [],
            "needs_background": "light"
          }
        }
      ]
    },
    {
      "cell_type": "code",
      "metadata": {
        "id": "z8Jg9LrWkktx",
        "colab_type": "code",
        "colab": {
          "base_uri": "https://localhost:8080/",
          "height": 359
        },
        "outputId": "c8d6e37d-86d9-45db-fdf6-edc18a0e13d6"
      },
      "source": [
        "show_as_table={\"Actual\": y_test.astype(int), \"Predict\": predict.astype(int)}\n",
        "predict_real= pd.DataFrame(show_as_table)\n",
        "predict_real.head(10)"
      ],
      "execution_count": 35,
      "outputs": [
        {
          "output_type": "execute_result",
          "data": {
            "text/html": [
              "<div>\n",
              "<style scoped>\n",
              "    .dataframe tbody tr th:only-of-type {\n",
              "        vertical-align: middle;\n",
              "    }\n",
              "\n",
              "    .dataframe tbody tr th {\n",
              "        vertical-align: top;\n",
              "    }\n",
              "\n",
              "    .dataframe thead th {\n",
              "        text-align: right;\n",
              "    }\n",
              "</style>\n",
              "<table border=\"1\" class=\"dataframe\">\n",
              "  <thead>\n",
              "    <tr style=\"text-align: right;\">\n",
              "      <th></th>\n",
              "      <th>Actual</th>\n",
              "      <th>Predict</th>\n",
              "    </tr>\n",
              "  </thead>\n",
              "  <tbody>\n",
              "    <tr>\n",
              "      <th>0</th>\n",
              "      <td>13</td>\n",
              "      <td>11</td>\n",
              "    </tr>\n",
              "    <tr>\n",
              "      <th>1</th>\n",
              "      <td>11</td>\n",
              "      <td>11</td>\n",
              "    </tr>\n",
              "    <tr>\n",
              "      <th>2</th>\n",
              "      <td>10</td>\n",
              "      <td>10</td>\n",
              "    </tr>\n",
              "    <tr>\n",
              "      <th>3</th>\n",
              "      <td>14</td>\n",
              "      <td>14</td>\n",
              "    </tr>\n",
              "    <tr>\n",
              "      <th>4</th>\n",
              "      <td>17</td>\n",
              "      <td>15</td>\n",
              "    </tr>\n",
              "    <tr>\n",
              "      <th>5</th>\n",
              "      <td>19</td>\n",
              "      <td>19</td>\n",
              "    </tr>\n",
              "    <tr>\n",
              "      <th>6</th>\n",
              "      <td>10</td>\n",
              "      <td>10</td>\n",
              "    </tr>\n",
              "    <tr>\n",
              "      <th>7</th>\n",
              "      <td>6</td>\n",
              "      <td>5</td>\n",
              "    </tr>\n",
              "    <tr>\n",
              "      <th>8</th>\n",
              "      <td>9</td>\n",
              "      <td>8</td>\n",
              "    </tr>\n",
              "    <tr>\n",
              "      <th>9</th>\n",
              "      <td>10</td>\n",
              "      <td>9</td>\n",
              "    </tr>\n",
              "  </tbody>\n",
              "</table>\n",
              "</div>"
            ],
            "text/plain": [
              "   Actual  Predict\n",
              "0      13       11\n",
              "1      11       11\n",
              "2      10       10\n",
              "3      14       14\n",
              "4      17       15\n",
              "5      19       19\n",
              "6      10       10\n",
              "7       6        5\n",
              "8       9        8\n",
              "9      10        9"
            ]
          },
          "metadata": {
            "tags": []
          },
          "execution_count": 35
        }
      ]
    },
    {
      "cell_type": "markdown",
      "metadata": {
        "id": "7cQbtaefnzdD",
        "colab_type": "text"
      },
      "source": [
        "#Save, Load and Use the Model"
      ]
    },
    {
      "cell_type": "code",
      "metadata": {
        "id": "e0lP9GCSn31-",
        "colab_type": "code",
        "colab": {}
      },
      "source": [
        "# Save the model\n",
        "\n",
        "#import pickle\n",
        "with open('saved_model.pkl','wb') as f:\n",
        "    pickle.dump(model,f)"
      ],
      "execution_count": 0,
      "outputs": []
    },
    {
      "cell_type": "code",
      "metadata": {
        "id": "4DtoaNyqov61",
        "colab_type": "code",
        "colab": {}
      },
      "source": [
        "# Load the saved model\n",
        "with open('saved_model.pkl', 'rb') as f:\n",
        "    model_load = pickle.load(f)"
      ],
      "execution_count": 0,
      "outputs": []
    },
    {
      "cell_type": "code",
      "metadata": {
        "id": "IS6jxK4TrCCM",
        "colab_type": "code",
        "outputId": "2a06c708-621a-4b26-f389-472e8f7f9d0c",
        "colab": {
          "base_uri": "https://localhost:8080/",
          "height": 34
        }
      },
      "source": [
        "#check if it the same model by print the score for test set\n",
        "result = model_load.score(X_test, y_test)\n",
        "print(result*100)"
      ],
      "execution_count": 38,
      "outputs": [
        {
          "output_type": "stream",
          "text": [
            "93.76001485581179\n"
          ],
          "name": "stdout"
        }
      ]
    },
    {
      "cell_type": "code",
      "metadata": {
        "id": "pqbBk-ArDa6K",
        "colab_type": "code",
        "outputId": "60c9be94-caab-499f-8d87-ac9d3abd9741",
        "colab": {
          "base_uri": "https://localhost:8080/",
          "height": 102
        }
      },
      "source": [
        "df.columns[:-1]"
      ],
      "execution_count": 39,
      "outputs": [
        {
          "output_type": "execute_result",
          "data": {
            "text/plain": [
              "Index(['sex', 'age', 'famsize', 'Medu', 'Fedu', 'Mjob', 'Fjob', 'guardian',\n",
              "       'traveltime', 'studytime', 'failures', 'schoolsup', 'famsup', 'paid',\n",
              "       'activities', 'higher', 'internet', 'famrel', 'freetime', 'goout',\n",
              "       'health', 'absences', 'G1', 'G2'],\n",
              "      dtype='object')"
            ]
          },
          "metadata": {
            "tags": []
          },
          "execution_count": 39
        }
      ]
    },
    {
      "cell_type": "code",
      "metadata": {
        "id": "VLkyGsa6rK_U",
        "colab_type": "code",
        "outputId": "d295fab4-37e6-46ac-e914-bb3202d2c726",
        "colab": {
          "base_uri": "https://localhost:8080/",
          "height": 34
        }
      },
      "source": [
        "#use the saved model for prediction\n",
        "exmaple_input= [  1, 18 , 1 , 2 , 3  ,2 , 2,  1 , 1 , 1 , 1 , 1 , 0 , 1 , 1 , 4 , 2 , 5 , 1 , 2 , 5 , 2 , 18,  20]\n",
        "exmaple_predict= model_load.predict(np.array( [exmaple_input,]))\n",
        "print(\"Predicted example input : \", int(exmaple_predict))\n"
      ],
      "execution_count": 40,
      "outputs": [
        {
          "output_type": "stream",
          "text": [
            "Predicted example input :  20\n"
          ],
          "name": "stdout"
        }
      ]
    }
  ]
}